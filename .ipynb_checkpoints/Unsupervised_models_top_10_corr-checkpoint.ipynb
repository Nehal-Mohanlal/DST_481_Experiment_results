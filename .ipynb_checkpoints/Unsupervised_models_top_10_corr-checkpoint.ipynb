{
 "cells": [
  {
   "cell_type": "markdown",
   "id": "857b8cb8",
   "metadata": {},
   "source": [
    "# LOAD DATASET "
   ]
  },
  {
   "cell_type": "code",
   "execution_count": 49,
   "id": "c1349a74",
   "metadata": {},
   "outputs": [],
   "source": [
    "from sklearn.ensemble import IsolationForest\n",
    "from sklearn.neighbors import LocalOutlierFactor\n",
    "from sklearn.model_selection import train_test_split,GridSearchCV\n",
    "from sklearn.svm import OneClassSVM\n",
    "from sklearn.metrics import accuracy_score, confusion_matrix, precision_score, recall_score, classification_report, f1_score\n",
    "from sklearn.preprocessing import StandardScaler\n",
    "import pandas as pd\n",
    "import numpy as np \n"
   ]
  },
  {
   "cell_type": "code",
   "execution_count": 50,
   "id": "cf615a83",
   "metadata": {},
   "outputs": [],
   "source": [
    "dataset = pd.read_csv(\"Obfuscated-MalMem2022.csv\")"
   ]
  },
  {
   "cell_type": "code",
   "execution_count": 51,
   "id": "0aff0cca",
   "metadata": {},
   "outputs": [
    {
     "data": {
      "text/html": [
       "<div>\n",
       "<style scoped>\n",
       "    .dataframe tbody tr th:only-of-type {\n",
       "        vertical-align: middle;\n",
       "    }\n",
       "\n",
       "    .dataframe tbody tr th {\n",
       "        vertical-align: top;\n",
       "    }\n",
       "\n",
       "    .dataframe thead th {\n",
       "        text-align: right;\n",
       "    }\n",
       "</style>\n",
       "<table border=\"1\" class=\"dataframe\">\n",
       "  <thead>\n",
       "    <tr style=\"text-align: right;\">\n",
       "      <th></th>\n",
       "      <th>Category</th>\n",
       "      <th>pslist.nproc</th>\n",
       "      <th>pslist.nppid</th>\n",
       "      <th>pslist.avg_threads</th>\n",
       "      <th>pslist.nprocs64bit</th>\n",
       "      <th>pslist.avg_handlers</th>\n",
       "      <th>dlllist.ndlls</th>\n",
       "      <th>dlllist.avg_dlls_per_proc</th>\n",
       "      <th>handles.nhandles</th>\n",
       "      <th>handles.avg_handles_per_proc</th>\n",
       "      <th>...</th>\n",
       "      <th>svcscan.kernel_drivers</th>\n",
       "      <th>svcscan.fs_drivers</th>\n",
       "      <th>svcscan.process_services</th>\n",
       "      <th>svcscan.shared_process_services</th>\n",
       "      <th>svcscan.interactive_process_services</th>\n",
       "      <th>svcscan.nactive</th>\n",
       "      <th>callbacks.ncallbacks</th>\n",
       "      <th>callbacks.nanonymous</th>\n",
       "      <th>callbacks.ngeneric</th>\n",
       "      <th>Class</th>\n",
       "    </tr>\n",
       "  </thead>\n",
       "  <tbody>\n",
       "    <tr>\n",
       "      <th>0</th>\n",
       "      <td>Benign</td>\n",
       "      <td>45</td>\n",
       "      <td>17</td>\n",
       "      <td>10.555556</td>\n",
       "      <td>0</td>\n",
       "      <td>202.844444</td>\n",
       "      <td>1694</td>\n",
       "      <td>38.500000</td>\n",
       "      <td>9129</td>\n",
       "      <td>212.302326</td>\n",
       "      <td>...</td>\n",
       "      <td>221</td>\n",
       "      <td>26</td>\n",
       "      <td>24</td>\n",
       "      <td>116</td>\n",
       "      <td>0</td>\n",
       "      <td>121</td>\n",
       "      <td>87</td>\n",
       "      <td>0</td>\n",
       "      <td>8</td>\n",
       "      <td>Benign</td>\n",
       "    </tr>\n",
       "    <tr>\n",
       "      <th>1</th>\n",
       "      <td>Benign</td>\n",
       "      <td>47</td>\n",
       "      <td>19</td>\n",
       "      <td>11.531915</td>\n",
       "      <td>0</td>\n",
       "      <td>242.234043</td>\n",
       "      <td>2074</td>\n",
       "      <td>44.127660</td>\n",
       "      <td>11385</td>\n",
       "      <td>242.234043</td>\n",
       "      <td>...</td>\n",
       "      <td>222</td>\n",
       "      <td>26</td>\n",
       "      <td>24</td>\n",
       "      <td>118</td>\n",
       "      <td>0</td>\n",
       "      <td>122</td>\n",
       "      <td>87</td>\n",
       "      <td>0</td>\n",
       "      <td>8</td>\n",
       "      <td>Benign</td>\n",
       "    </tr>\n",
       "    <tr>\n",
       "      <th>2</th>\n",
       "      <td>Benign</td>\n",
       "      <td>40</td>\n",
       "      <td>14</td>\n",
       "      <td>14.725000</td>\n",
       "      <td>0</td>\n",
       "      <td>288.225000</td>\n",
       "      <td>1932</td>\n",
       "      <td>48.300000</td>\n",
       "      <td>11529</td>\n",
       "      <td>288.225000</td>\n",
       "      <td>...</td>\n",
       "      <td>222</td>\n",
       "      <td>26</td>\n",
       "      <td>27</td>\n",
       "      <td>118</td>\n",
       "      <td>0</td>\n",
       "      <td>120</td>\n",
       "      <td>88</td>\n",
       "      <td>0</td>\n",
       "      <td>8</td>\n",
       "      <td>Benign</td>\n",
       "    </tr>\n",
       "    <tr>\n",
       "      <th>3</th>\n",
       "      <td>Benign</td>\n",
       "      <td>32</td>\n",
       "      <td>13</td>\n",
       "      <td>13.500000</td>\n",
       "      <td>0</td>\n",
       "      <td>264.281250</td>\n",
       "      <td>1445</td>\n",
       "      <td>45.156250</td>\n",
       "      <td>8457</td>\n",
       "      <td>264.281250</td>\n",
       "      <td>...</td>\n",
       "      <td>222</td>\n",
       "      <td>26</td>\n",
       "      <td>27</td>\n",
       "      <td>118</td>\n",
       "      <td>0</td>\n",
       "      <td>120</td>\n",
       "      <td>88</td>\n",
       "      <td>0</td>\n",
       "      <td>8</td>\n",
       "      <td>Benign</td>\n",
       "    </tr>\n",
       "    <tr>\n",
       "      <th>4</th>\n",
       "      <td>Benign</td>\n",
       "      <td>42</td>\n",
       "      <td>16</td>\n",
       "      <td>11.452381</td>\n",
       "      <td>0</td>\n",
       "      <td>281.333333</td>\n",
       "      <td>2067</td>\n",
       "      <td>49.214286</td>\n",
       "      <td>11816</td>\n",
       "      <td>281.333333</td>\n",
       "      <td>...</td>\n",
       "      <td>222</td>\n",
       "      <td>26</td>\n",
       "      <td>24</td>\n",
       "      <td>118</td>\n",
       "      <td>0</td>\n",
       "      <td>124</td>\n",
       "      <td>87</td>\n",
       "      <td>0</td>\n",
       "      <td>8</td>\n",
       "      <td>Benign</td>\n",
       "    </tr>\n",
       "  </tbody>\n",
       "</table>\n",
       "<p>5 rows × 57 columns</p>\n",
       "</div>"
      ],
      "text/plain": [
       "  Category  pslist.nproc  pslist.nppid  pslist.avg_threads  \\\n",
       "0   Benign            45            17           10.555556   \n",
       "1   Benign            47            19           11.531915   \n",
       "2   Benign            40            14           14.725000   \n",
       "3   Benign            32            13           13.500000   \n",
       "4   Benign            42            16           11.452381   \n",
       "\n",
       "   pslist.nprocs64bit  pslist.avg_handlers  dlllist.ndlls  \\\n",
       "0                   0           202.844444           1694   \n",
       "1                   0           242.234043           2074   \n",
       "2                   0           288.225000           1932   \n",
       "3                   0           264.281250           1445   \n",
       "4                   0           281.333333           2067   \n",
       "\n",
       "   dlllist.avg_dlls_per_proc  handles.nhandles  handles.avg_handles_per_proc  \\\n",
       "0                  38.500000              9129                    212.302326   \n",
       "1                  44.127660             11385                    242.234043   \n",
       "2                  48.300000             11529                    288.225000   \n",
       "3                  45.156250              8457                    264.281250   \n",
       "4                  49.214286             11816                    281.333333   \n",
       "\n",
       "   ...  svcscan.kernel_drivers  svcscan.fs_drivers  svcscan.process_services  \\\n",
       "0  ...                     221                  26                        24   \n",
       "1  ...                     222                  26                        24   \n",
       "2  ...                     222                  26                        27   \n",
       "3  ...                     222                  26                        27   \n",
       "4  ...                     222                  26                        24   \n",
       "\n",
       "   svcscan.shared_process_services  svcscan.interactive_process_services  \\\n",
       "0                              116                                     0   \n",
       "1                              118                                     0   \n",
       "2                              118                                     0   \n",
       "3                              118                                     0   \n",
       "4                              118                                     0   \n",
       "\n",
       "   svcscan.nactive  callbacks.ncallbacks  callbacks.nanonymous  \\\n",
       "0              121                    87                     0   \n",
       "1              122                    87                     0   \n",
       "2              120                    88                     0   \n",
       "3              120                    88                     0   \n",
       "4              124                    87                     0   \n",
       "\n",
       "   callbacks.ngeneric   Class  \n",
       "0                   8  Benign  \n",
       "1                   8  Benign  \n",
       "2                   8  Benign  \n",
       "3                   8  Benign  \n",
       "4                   8  Benign  \n",
       "\n",
       "[5 rows x 57 columns]"
      ]
     },
     "execution_count": 51,
     "metadata": {},
     "output_type": "execute_result"
    }
   ],
   "source": [
    "dataset.head()"
   ]
  },
  {
   "cell_type": "code",
   "execution_count": 52,
   "id": "a5967907",
   "metadata": {},
   "outputs": [],
   "source": [
    "## Drop Category, not needed. "
   ]
  },
  {
   "cell_type": "code",
   "execution_count": 53,
   "id": "5a878cbe",
   "metadata": {},
   "outputs": [],
   "source": [
    "df = dataset.drop(['Category'], axis=1)"
   ]
  },
  {
   "cell_type": "code",
   "execution_count": 54,
   "id": "2d4c4ced",
   "metadata": {},
   "outputs": [],
   "source": [
    "## make class 0 and 1 instead of malware and benign \n",
    "## malware = 1\n",
    "## Bennign = 0 \n"
   ]
  },
  {
   "cell_type": "code",
   "execution_count": 55,
   "id": "b7e6ee33",
   "metadata": {},
   "outputs": [],
   "source": [
    "df['Class'] = df['Class'].replace(['Malware', 'Benign'], [1, 0]) "
   ]
  },
  {
   "cell_type": "code",
   "execution_count": 56,
   "id": "ac822d6b",
   "metadata": {},
   "outputs": [],
   "source": [
    "data = pd.DataFrame()"
   ]
  },
  {
   "cell_type": "code",
   "execution_count": 57,
   "id": "068f014b",
   "metadata": {},
   "outputs": [],
   "source": [
    "data['psxview.not_in_ethread_pool_false_avg'] = df['psxview.not_in_ethread_pool_false_avg']\n",
    "data['psxview.not_in_deskthrd'] = df['psxview.not_in_deskthrd']\n",
    "data['psxview.not_in_session_false_avg'] = df['psxview.not_in_session_false_avg']\n",
    "data['psxview.not_in_csrss_handles_false_avg'] = df['psxview.not_in_csrss_handles_false_avg']\n",
    "data['malfind.protection'] = df['malfind.protection']\n",
    "data['malfind.ninjections'] = df['malfind.ninjections']\n",
    "data['malfind.uniqueInjections'] = df['malfind.uniqueInjections']\n",
    "data['malfind.commitCharge'] = df['malfind.commitCharge']\n",
    "data['psxview.not_in_deskthrd_false_avg'] = df['psxview.not_in_deskthrd_false_avg']\n",
    "data['pslist.nppid'] = df['pslist.nppid']\n",
    "data['Class'] = df['Class']"
   ]
  },
  {
   "cell_type": "code",
   "execution_count": 58,
   "id": "c1702ab6",
   "metadata": {},
   "outputs": [
    {
     "data": {
      "text/html": [
       "<div>\n",
       "<style scoped>\n",
       "    .dataframe tbody tr th:only-of-type {\n",
       "        vertical-align: middle;\n",
       "    }\n",
       "\n",
       "    .dataframe tbody tr th {\n",
       "        vertical-align: top;\n",
       "    }\n",
       "\n",
       "    .dataframe thead th {\n",
       "        text-align: right;\n",
       "    }\n",
       "</style>\n",
       "<table border=\"1\" class=\"dataframe\">\n",
       "  <thead>\n",
       "    <tr style=\"text-align: right;\">\n",
       "      <th></th>\n",
       "      <th>psxview.not_in_ethread_pool_false_avg</th>\n",
       "      <th>psxview.not_in_deskthrd</th>\n",
       "      <th>psxview.not_in_session_false_avg</th>\n",
       "      <th>psxview.not_in_csrss_handles_false_avg</th>\n",
       "      <th>malfind.protection</th>\n",
       "      <th>malfind.ninjections</th>\n",
       "      <th>malfind.uniqueInjections</th>\n",
       "      <th>malfind.commitCharge</th>\n",
       "      <th>psxview.not_in_deskthrd_false_avg</th>\n",
       "      <th>pslist.nppid</th>\n",
       "      <th>Class</th>\n",
       "    </tr>\n",
       "  </thead>\n",
       "  <tbody>\n",
       "    <tr>\n",
       "      <th>0</th>\n",
       "      <td>0.063830</td>\n",
       "      <td>9</td>\n",
       "      <td>0.085106</td>\n",
       "      <td>0.148936</td>\n",
       "      <td>30</td>\n",
       "      <td>5</td>\n",
       "      <td>1.250000</td>\n",
       "      <td>21</td>\n",
       "      <td>0.191489</td>\n",
       "      <td>17</td>\n",
       "      <td>0</td>\n",
       "    </tr>\n",
       "    <tr>\n",
       "      <th>1</th>\n",
       "      <td>0.000000</td>\n",
       "      <td>6</td>\n",
       "      <td>0.042553</td>\n",
       "      <td>0.085106</td>\n",
       "      <td>72</td>\n",
       "      <td>12</td>\n",
       "      <td>1.714286</td>\n",
       "      <td>77</td>\n",
       "      <td>0.127660</td>\n",
       "      <td>19</td>\n",
       "      <td>0</td>\n",
       "    </tr>\n",
       "    <tr>\n",
       "      <th>2</th>\n",
       "      <td>0.000000</td>\n",
       "      <td>5</td>\n",
       "      <td>0.050000</td>\n",
       "      <td>0.100000</td>\n",
       "      <td>30</td>\n",
       "      <td>5</td>\n",
       "      <td>1.250000</td>\n",
       "      <td>6</td>\n",
       "      <td>0.125000</td>\n",
       "      <td>14</td>\n",
       "      <td>0</td>\n",
       "    </tr>\n",
       "    <tr>\n",
       "      <th>3</th>\n",
       "      <td>0.000000</td>\n",
       "      <td>6</td>\n",
       "      <td>0.062500</td>\n",
       "      <td>0.125000</td>\n",
       "      <td>12</td>\n",
       "      <td>2</td>\n",
       "      <td>1.000000</td>\n",
       "      <td>2</td>\n",
       "      <td>0.187500</td>\n",
       "      <td>13</td>\n",
       "      <td>0</td>\n",
       "    </tr>\n",
       "    <tr>\n",
       "      <th>4</th>\n",
       "      <td>0.086957</td>\n",
       "      <td>10</td>\n",
       "      <td>0.130435</td>\n",
       "      <td>0.173913</td>\n",
       "      <td>72</td>\n",
       "      <td>12</td>\n",
       "      <td>2.000000</td>\n",
       "      <td>77</td>\n",
       "      <td>0.217391</td>\n",
       "      <td>16</td>\n",
       "      <td>0</td>\n",
       "    </tr>\n",
       "  </tbody>\n",
       "</table>\n",
       "</div>"
      ],
      "text/plain": [
       "   psxview.not_in_ethread_pool_false_avg  psxview.not_in_deskthrd  \\\n",
       "0                               0.063830                        9   \n",
       "1                               0.000000                        6   \n",
       "2                               0.000000                        5   \n",
       "3                               0.000000                        6   \n",
       "4                               0.086957                       10   \n",
       "\n",
       "   psxview.not_in_session_false_avg  psxview.not_in_csrss_handles_false_avg  \\\n",
       "0                          0.085106                                0.148936   \n",
       "1                          0.042553                                0.085106   \n",
       "2                          0.050000                                0.100000   \n",
       "3                          0.062500                                0.125000   \n",
       "4                          0.130435                                0.173913   \n",
       "\n",
       "   malfind.protection  malfind.ninjections  malfind.uniqueInjections  \\\n",
       "0                  30                    5                  1.250000   \n",
       "1                  72                   12                  1.714286   \n",
       "2                  30                    5                  1.250000   \n",
       "3                  12                    2                  1.000000   \n",
       "4                  72                   12                  2.000000   \n",
       "\n",
       "   malfind.commitCharge  psxview.not_in_deskthrd_false_avg  pslist.nppid  \\\n",
       "0                    21                           0.191489            17   \n",
       "1                    77                           0.127660            19   \n",
       "2                     6                           0.125000            14   \n",
       "3                     2                           0.187500            13   \n",
       "4                    77                           0.217391            16   \n",
       "\n",
       "   Class  \n",
       "0      0  \n",
       "1      0  \n",
       "2      0  \n",
       "3      0  \n",
       "4      0  "
      ]
     },
     "execution_count": 58,
     "metadata": {},
     "output_type": "execute_result"
    }
   ],
   "source": [
    "data.head()"
   ]
  },
  {
   "cell_type": "code",
   "execution_count": 59,
   "id": "67cb894c",
   "metadata": {},
   "outputs": [],
   "source": [
    "##Split dataset into X and Y values\n",
    "## Because these models are unsupervised, labels are not needed for training \n",
    "# only used for evaluation at the end. "
   ]
  },
  {
   "cell_type": "code",
   "execution_count": 60,
   "id": "4bb578ba",
   "metadata": {},
   "outputs": [],
   "source": [
    "X = data.iloc[:,:-1].values\n",
    "y = data.iloc[:,-1].values"
   ]
  },
  {
   "cell_type": "code",
   "execution_count": 61,
   "id": "7546870e",
   "metadata": {},
   "outputs": [],
   "source": [
    "Xtrain, Xtest, ytrain, ytest = train_test_split(X,y,test_size=0.2, random_state=42)"
   ]
  },
  {
   "cell_type": "markdown",
   "id": "112a641a",
   "metadata": {},
   "source": [
    "# Training And Evaluating Isolation Forest"
   ]
  },
  {
   "cell_type": "code",
   "execution_count": 62,
   "id": "e6c2767d",
   "metadata": {},
   "outputs": [],
   "source": [
    "Isolation_Forest_model=IsolationForest(max_samples= 100, n_estimators= 200, contamination=0.5, bootstrap = True)"
   ]
  },
  {
   "cell_type": "code",
   "execution_count": 63,
   "id": "cae2ba73",
   "metadata": {},
   "outputs": [
    {
     "data": {
      "text/html": [
       "<style>#sk-container-id-3 {color: black;background-color: white;}#sk-container-id-3 pre{padding: 0;}#sk-container-id-3 div.sk-toggleable {background-color: white;}#sk-container-id-3 label.sk-toggleable__label {cursor: pointer;display: block;width: 100%;margin-bottom: 0;padding: 0.3em;box-sizing: border-box;text-align: center;}#sk-container-id-3 label.sk-toggleable__label-arrow:before {content: \"▸\";float: left;margin-right: 0.25em;color: #696969;}#sk-container-id-3 label.sk-toggleable__label-arrow:hover:before {color: black;}#sk-container-id-3 div.sk-estimator:hover label.sk-toggleable__label-arrow:before {color: black;}#sk-container-id-3 div.sk-toggleable__content {max-height: 0;max-width: 0;overflow: hidden;text-align: left;background-color: #f0f8ff;}#sk-container-id-3 div.sk-toggleable__content pre {margin: 0.2em;color: black;border-radius: 0.25em;background-color: #f0f8ff;}#sk-container-id-3 input.sk-toggleable__control:checked~div.sk-toggleable__content {max-height: 200px;max-width: 100%;overflow: auto;}#sk-container-id-3 input.sk-toggleable__control:checked~label.sk-toggleable__label-arrow:before {content: \"▾\";}#sk-container-id-3 div.sk-estimator input.sk-toggleable__control:checked~label.sk-toggleable__label {background-color: #d4ebff;}#sk-container-id-3 div.sk-label input.sk-toggleable__control:checked~label.sk-toggleable__label {background-color: #d4ebff;}#sk-container-id-3 input.sk-hidden--visually {border: 0;clip: rect(1px 1px 1px 1px);clip: rect(1px, 1px, 1px, 1px);height: 1px;margin: -1px;overflow: hidden;padding: 0;position: absolute;width: 1px;}#sk-container-id-3 div.sk-estimator {font-family: monospace;background-color: #f0f8ff;border: 1px dotted black;border-radius: 0.25em;box-sizing: border-box;margin-bottom: 0.5em;}#sk-container-id-3 div.sk-estimator:hover {background-color: #d4ebff;}#sk-container-id-3 div.sk-parallel-item::after {content: \"\";width: 100%;border-bottom: 1px solid gray;flex-grow: 1;}#sk-container-id-3 div.sk-label:hover label.sk-toggleable__label {background-color: #d4ebff;}#sk-container-id-3 div.sk-serial::before {content: \"\";position: absolute;border-left: 1px solid gray;box-sizing: border-box;top: 0;bottom: 0;left: 50%;z-index: 0;}#sk-container-id-3 div.sk-serial {display: flex;flex-direction: column;align-items: center;background-color: white;padding-right: 0.2em;padding-left: 0.2em;position: relative;}#sk-container-id-3 div.sk-item {position: relative;z-index: 1;}#sk-container-id-3 div.sk-parallel {display: flex;align-items: stretch;justify-content: center;background-color: white;position: relative;}#sk-container-id-3 div.sk-item::before, #sk-container-id-3 div.sk-parallel-item::before {content: \"\";position: absolute;border-left: 1px solid gray;box-sizing: border-box;top: 0;bottom: 0;left: 50%;z-index: -1;}#sk-container-id-3 div.sk-parallel-item {display: flex;flex-direction: column;z-index: 1;position: relative;background-color: white;}#sk-container-id-3 div.sk-parallel-item:first-child::after {align-self: flex-end;width: 50%;}#sk-container-id-3 div.sk-parallel-item:last-child::after {align-self: flex-start;width: 50%;}#sk-container-id-3 div.sk-parallel-item:only-child::after {width: 0;}#sk-container-id-3 div.sk-dashed-wrapped {border: 1px dashed gray;margin: 0 0.4em 0.5em 0.4em;box-sizing: border-box;padding-bottom: 0.4em;background-color: white;}#sk-container-id-3 div.sk-label label {font-family: monospace;font-weight: bold;display: inline-block;line-height: 1.2em;}#sk-container-id-3 div.sk-label-container {text-align: center;}#sk-container-id-3 div.sk-container {/* jupyter's `normalize.less` sets `[hidden] { display: none; }` but bootstrap.min.css set `[hidden] { display: none !important; }` so we also need the `!important` here to be able to override the default hidden behavior on the sphinx rendered scikit-learn.org. See: https://github.com/scikit-learn/scikit-learn/issues/21755 */display: inline-block !important;position: relative;}#sk-container-id-3 div.sk-text-repr-fallback {display: none;}</style><div id=\"sk-container-id-3\" class=\"sk-top-container\"><div class=\"sk-text-repr-fallback\"><pre>IsolationForest(bootstrap=True, contamination=0.5, max_samples=100,\n",
       "                n_estimators=200)</pre><b>In a Jupyter environment, please rerun this cell to show the HTML representation or trust the notebook. <br />On GitHub, the HTML representation is unable to render, please try loading this page with nbviewer.org.</b></div><div class=\"sk-container\" hidden><div class=\"sk-item\"><div class=\"sk-estimator sk-toggleable\"><input class=\"sk-toggleable__control sk-hidden--visually\" id=\"sk-estimator-id-3\" type=\"checkbox\" checked><label for=\"sk-estimator-id-3\" class=\"sk-toggleable__label sk-toggleable__label-arrow\">IsolationForest</label><div class=\"sk-toggleable__content\"><pre>IsolationForest(bootstrap=True, contamination=0.5, max_samples=100,\n",
       "                n_estimators=200)</pre></div></div></div></div></div>"
      ],
      "text/plain": [
       "IsolationForest(bootstrap=True, contamination=0.5, max_samples=100,\n",
       "                n_estimators=200)"
      ]
     },
     "execution_count": 63,
     "metadata": {},
     "output_type": "execute_result"
    }
   ],
   "source": [
    "Isolation_Forest_model.fit(Xtrain)"
   ]
  },
  {
   "cell_type": "code",
   "execution_count": 64,
   "id": "7a2b9fb4",
   "metadata": {},
   "outputs": [],
   "source": [
    "predictions = Isolation_Forest_model.predict(Xtest)"
   ]
  },
  {
   "cell_type": "code",
   "execution_count": 65,
   "id": "a01c9762",
   "metadata": {},
   "outputs": [
    {
     "name": "stdout",
     "output_type": "stream",
     "text": [
      "[ 1  1 -1 ...  1  1  1]\n"
     ]
    }
   ],
   "source": [
    "print(predictions)"
   ]
  },
  {
   "cell_type": "code",
   "execution_count": 66,
   "id": "a8b1c613",
   "metadata": {},
   "outputs": [],
   "source": [
    "## printing the predictions\n",
    "## model predicted 5904 anomalies and 5816 normal instances "
   ]
  },
  {
   "cell_type": "code",
   "execution_count": 67,
   "id": "2b2264aa",
   "metadata": {},
   "outputs": [
    {
     "name": "stdout",
     "output_type": "stream",
     "text": [
      "-1    5886\n",
      " 1    5834\n",
      "dtype: int64\n"
     ]
    }
   ],
   "source": [
    "print(pd.value_counts(predictions))"
   ]
  },
  {
   "cell_type": "code",
   "execution_count": 68,
   "id": "b4f96ca0",
   "metadata": {},
   "outputs": [],
   "source": [
    "## map the predictions to 0 and 1 from -1 and 1\n",
    "## map anomalies to 1 and normal instances to 0"
   ]
  },
  {
   "cell_type": "code",
   "execution_count": 69,
   "id": "dbd4af42",
   "metadata": {},
   "outputs": [],
   "source": [
    "predictions[predictions== 1] = 0\n",
    "predictions[predictions== -1] = 1"
   ]
  },
  {
   "cell_type": "code",
   "execution_count": 70,
   "id": "683d64e5",
   "metadata": {},
   "outputs": [
    {
     "name": "stdout",
     "output_type": "stream",
     "text": [
      "1    5886\n",
      "0    5834\n",
      "dtype: int64\n"
     ]
    }
   ],
   "source": [
    "print(pd.value_counts(predictions))"
   ]
  },
  {
   "cell_type": "code",
   "execution_count": 71,
   "id": "96598e94",
   "metadata": {},
   "outputs": [],
   "source": [
    "## start evaluation. \n",
    "## Classification Report\n",
    "## confusion Matrix \n",
    "## area under curve "
   ]
  },
  {
   "cell_type": "code",
   "execution_count": 72,
   "id": "3be8bca1",
   "metadata": {},
   "outputs": [],
   "source": [
    "Isolation_forest_classification_report = classification_report(predictions, ytest)"
   ]
  },
  {
   "cell_type": "code",
   "execution_count": 73,
   "id": "ce6717bd",
   "metadata": {},
   "outputs": [
    {
     "name": "stdout",
     "output_type": "stream",
     "text": [
      "              precision    recall  f1-score   support\n",
      "\n",
      "           0       0.56      0.56      0.56      5834\n",
      "           1       0.57      0.57      0.57      5886\n",
      "\n",
      "    accuracy                           0.56     11720\n",
      "   macro avg       0.56      0.56      0.56     11720\n",
      "weighted avg       0.56      0.56      0.56     11720\n",
      "\n"
     ]
    }
   ],
   "source": [
    "print(Isolation_forest_classification_report)"
   ]
  },
  {
   "cell_type": "code",
   "execution_count": 74,
   "id": "52c0788b",
   "metadata": {},
   "outputs": [
    {
     "name": "stdout",
     "output_type": "stream",
     "text": [
      "[[3259 2575]\n",
      " [2531 3355]]\n"
     ]
    }
   ],
   "source": [
    "Isolation_forest_confusion_matrix = confusion_matrix(predictions, ytest)\n",
    "print(Isolation_forest_confusion_matrix)"
   ]
  },
  {
   "cell_type": "markdown",
   "id": "251e7818",
   "metadata": {},
   "source": [
    "# Training And Evaluating Local Outlier Factor"
   ]
  },
  {
   "cell_type": "code",
   "execution_count": 75,
   "id": "66d5a52e",
   "metadata": {},
   "outputs": [],
   "source": [
    "Local_outlier_factor = LocalOutlierFactor(n_neighbors = 100, algorithm='auto', contamination=0.5, novelty=True)"
   ]
  },
  {
   "cell_type": "code",
   "execution_count": 76,
   "id": "def161d6",
   "metadata": {},
   "outputs": [
    {
     "data": {
      "text/html": [
       "<style>#sk-container-id-4 {color: black;background-color: white;}#sk-container-id-4 pre{padding: 0;}#sk-container-id-4 div.sk-toggleable {background-color: white;}#sk-container-id-4 label.sk-toggleable__label {cursor: pointer;display: block;width: 100%;margin-bottom: 0;padding: 0.3em;box-sizing: border-box;text-align: center;}#sk-container-id-4 label.sk-toggleable__label-arrow:before {content: \"▸\";float: left;margin-right: 0.25em;color: #696969;}#sk-container-id-4 label.sk-toggleable__label-arrow:hover:before {color: black;}#sk-container-id-4 div.sk-estimator:hover label.sk-toggleable__label-arrow:before {color: black;}#sk-container-id-4 div.sk-toggleable__content {max-height: 0;max-width: 0;overflow: hidden;text-align: left;background-color: #f0f8ff;}#sk-container-id-4 div.sk-toggleable__content pre {margin: 0.2em;color: black;border-radius: 0.25em;background-color: #f0f8ff;}#sk-container-id-4 input.sk-toggleable__control:checked~div.sk-toggleable__content {max-height: 200px;max-width: 100%;overflow: auto;}#sk-container-id-4 input.sk-toggleable__control:checked~label.sk-toggleable__label-arrow:before {content: \"▾\";}#sk-container-id-4 div.sk-estimator input.sk-toggleable__control:checked~label.sk-toggleable__label {background-color: #d4ebff;}#sk-container-id-4 div.sk-label input.sk-toggleable__control:checked~label.sk-toggleable__label {background-color: #d4ebff;}#sk-container-id-4 input.sk-hidden--visually {border: 0;clip: rect(1px 1px 1px 1px);clip: rect(1px, 1px, 1px, 1px);height: 1px;margin: -1px;overflow: hidden;padding: 0;position: absolute;width: 1px;}#sk-container-id-4 div.sk-estimator {font-family: monospace;background-color: #f0f8ff;border: 1px dotted black;border-radius: 0.25em;box-sizing: border-box;margin-bottom: 0.5em;}#sk-container-id-4 div.sk-estimator:hover {background-color: #d4ebff;}#sk-container-id-4 div.sk-parallel-item::after {content: \"\";width: 100%;border-bottom: 1px solid gray;flex-grow: 1;}#sk-container-id-4 div.sk-label:hover label.sk-toggleable__label {background-color: #d4ebff;}#sk-container-id-4 div.sk-serial::before {content: \"\";position: absolute;border-left: 1px solid gray;box-sizing: border-box;top: 0;bottom: 0;left: 50%;z-index: 0;}#sk-container-id-4 div.sk-serial {display: flex;flex-direction: column;align-items: center;background-color: white;padding-right: 0.2em;padding-left: 0.2em;position: relative;}#sk-container-id-4 div.sk-item {position: relative;z-index: 1;}#sk-container-id-4 div.sk-parallel {display: flex;align-items: stretch;justify-content: center;background-color: white;position: relative;}#sk-container-id-4 div.sk-item::before, #sk-container-id-4 div.sk-parallel-item::before {content: \"\";position: absolute;border-left: 1px solid gray;box-sizing: border-box;top: 0;bottom: 0;left: 50%;z-index: -1;}#sk-container-id-4 div.sk-parallel-item {display: flex;flex-direction: column;z-index: 1;position: relative;background-color: white;}#sk-container-id-4 div.sk-parallel-item:first-child::after {align-self: flex-end;width: 50%;}#sk-container-id-4 div.sk-parallel-item:last-child::after {align-self: flex-start;width: 50%;}#sk-container-id-4 div.sk-parallel-item:only-child::after {width: 0;}#sk-container-id-4 div.sk-dashed-wrapped {border: 1px dashed gray;margin: 0 0.4em 0.5em 0.4em;box-sizing: border-box;padding-bottom: 0.4em;background-color: white;}#sk-container-id-4 div.sk-label label {font-family: monospace;font-weight: bold;display: inline-block;line-height: 1.2em;}#sk-container-id-4 div.sk-label-container {text-align: center;}#sk-container-id-4 div.sk-container {/* jupyter's `normalize.less` sets `[hidden] { display: none; }` but bootstrap.min.css set `[hidden] { display: none !important; }` so we also need the `!important` here to be able to override the default hidden behavior on the sphinx rendered scikit-learn.org. See: https://github.com/scikit-learn/scikit-learn/issues/21755 */display: inline-block !important;position: relative;}#sk-container-id-4 div.sk-text-repr-fallback {display: none;}</style><div id=\"sk-container-id-4\" class=\"sk-top-container\"><div class=\"sk-text-repr-fallback\"><pre>LocalOutlierFactor(contamination=0.5, n_neighbors=100, novelty=True)</pre><b>In a Jupyter environment, please rerun this cell to show the HTML representation or trust the notebook. <br />On GitHub, the HTML representation is unable to render, please try loading this page with nbviewer.org.</b></div><div class=\"sk-container\" hidden><div class=\"sk-item\"><div class=\"sk-estimator sk-toggleable\"><input class=\"sk-toggleable__control sk-hidden--visually\" id=\"sk-estimator-id-4\" type=\"checkbox\" checked><label for=\"sk-estimator-id-4\" class=\"sk-toggleable__label sk-toggleable__label-arrow\">LocalOutlierFactor</label><div class=\"sk-toggleable__content\"><pre>LocalOutlierFactor(contamination=0.5, n_neighbors=100, novelty=True)</pre></div></div></div></div></div>"
      ],
      "text/plain": [
       "LocalOutlierFactor(contamination=0.5, n_neighbors=100, novelty=True)"
      ]
     },
     "execution_count": 76,
     "metadata": {},
     "output_type": "execute_result"
    }
   ],
   "source": [
    "Local_outlier_factor.fit(Xtrain)"
   ]
  },
  {
   "cell_type": "code",
   "execution_count": 77,
   "id": "d89a7b42",
   "metadata": {},
   "outputs": [],
   "source": [
    "LOF_predictions = Local_outlier_factor.predict(Xtest)"
   ]
  },
  {
   "cell_type": "code",
   "execution_count": 78,
   "id": "26fa6fa5",
   "metadata": {},
   "outputs": [
    {
     "name": "stdout",
     "output_type": "stream",
     "text": [
      "0    7375\n",
      "1    4345\n",
      "dtype: int64\n"
     ]
    }
   ],
   "source": [
    "LOF_predictions[LOF_predictions== 1] = 0\n",
    "LOF_predictions[LOF_predictions== -1] = 1\n",
    "\n",
    "print(pd.value_counts(LOF_predictions))"
   ]
  },
  {
   "cell_type": "code",
   "execution_count": 79,
   "id": "438aa99e",
   "metadata": {},
   "outputs": [
    {
     "name": "stdout",
     "output_type": "stream",
     "text": [
      "              precision    recall  f1-score   support\n",
      "\n",
      "           0       0.59      0.46      0.52      7375\n",
      "           1       0.33      0.45      0.38      4345\n",
      "\n",
      "    accuracy                           0.46     11720\n",
      "   macro avg       0.46      0.46      0.45     11720\n",
      "weighted avg       0.49      0.46      0.47     11720\n",
      "\n"
     ]
    }
   ],
   "source": [
    "LOF_classification_report = classification_report(LOF_predictions, ytest)\n",
    "print(LOF_classification_report)"
   ]
  },
  {
   "cell_type": "code",
   "execution_count": 80,
   "id": "5389c991",
   "metadata": {},
   "outputs": [
    {
     "name": "stdout",
     "output_type": "stream",
     "text": [
      "[[3401 3974]\n",
      " [2389 1956]]\n"
     ]
    }
   ],
   "source": [
    "LOF_confusion_matrix = confusion_matrix(LOF_predictions, ytest)\n",
    "print(LOF_confusion_matrix)"
   ]
  },
  {
   "cell_type": "markdown",
   "id": "81003674",
   "metadata": {},
   "source": [
    "# Training And Evaluating ONE-CLASS SUPPORT VECTOR MACHINE (SVM)"
   ]
  },
  {
   "cell_type": "code",
   "execution_count": 81,
   "id": "ff6cc28c",
   "metadata": {},
   "outputs": [],
   "source": [
    "one_class_svm = OneClassSVM()"
   ]
  },
  {
   "cell_type": "code",
   "execution_count": 82,
   "id": "800b105d",
   "metadata": {},
   "outputs": [
    {
     "data": {
      "text/html": [
       "<style>#sk-container-id-5 {color: black;background-color: white;}#sk-container-id-5 pre{padding: 0;}#sk-container-id-5 div.sk-toggleable {background-color: white;}#sk-container-id-5 label.sk-toggleable__label {cursor: pointer;display: block;width: 100%;margin-bottom: 0;padding: 0.3em;box-sizing: border-box;text-align: center;}#sk-container-id-5 label.sk-toggleable__label-arrow:before {content: \"▸\";float: left;margin-right: 0.25em;color: #696969;}#sk-container-id-5 label.sk-toggleable__label-arrow:hover:before {color: black;}#sk-container-id-5 div.sk-estimator:hover label.sk-toggleable__label-arrow:before {color: black;}#sk-container-id-5 div.sk-toggleable__content {max-height: 0;max-width: 0;overflow: hidden;text-align: left;background-color: #f0f8ff;}#sk-container-id-5 div.sk-toggleable__content pre {margin: 0.2em;color: black;border-radius: 0.25em;background-color: #f0f8ff;}#sk-container-id-5 input.sk-toggleable__control:checked~div.sk-toggleable__content {max-height: 200px;max-width: 100%;overflow: auto;}#sk-container-id-5 input.sk-toggleable__control:checked~label.sk-toggleable__label-arrow:before {content: \"▾\";}#sk-container-id-5 div.sk-estimator input.sk-toggleable__control:checked~label.sk-toggleable__label {background-color: #d4ebff;}#sk-container-id-5 div.sk-label input.sk-toggleable__control:checked~label.sk-toggleable__label {background-color: #d4ebff;}#sk-container-id-5 input.sk-hidden--visually {border: 0;clip: rect(1px 1px 1px 1px);clip: rect(1px, 1px, 1px, 1px);height: 1px;margin: -1px;overflow: hidden;padding: 0;position: absolute;width: 1px;}#sk-container-id-5 div.sk-estimator {font-family: monospace;background-color: #f0f8ff;border: 1px dotted black;border-radius: 0.25em;box-sizing: border-box;margin-bottom: 0.5em;}#sk-container-id-5 div.sk-estimator:hover {background-color: #d4ebff;}#sk-container-id-5 div.sk-parallel-item::after {content: \"\";width: 100%;border-bottom: 1px solid gray;flex-grow: 1;}#sk-container-id-5 div.sk-label:hover label.sk-toggleable__label {background-color: #d4ebff;}#sk-container-id-5 div.sk-serial::before {content: \"\";position: absolute;border-left: 1px solid gray;box-sizing: border-box;top: 0;bottom: 0;left: 50%;z-index: 0;}#sk-container-id-5 div.sk-serial {display: flex;flex-direction: column;align-items: center;background-color: white;padding-right: 0.2em;padding-left: 0.2em;position: relative;}#sk-container-id-5 div.sk-item {position: relative;z-index: 1;}#sk-container-id-5 div.sk-parallel {display: flex;align-items: stretch;justify-content: center;background-color: white;position: relative;}#sk-container-id-5 div.sk-item::before, #sk-container-id-5 div.sk-parallel-item::before {content: \"\";position: absolute;border-left: 1px solid gray;box-sizing: border-box;top: 0;bottom: 0;left: 50%;z-index: -1;}#sk-container-id-5 div.sk-parallel-item {display: flex;flex-direction: column;z-index: 1;position: relative;background-color: white;}#sk-container-id-5 div.sk-parallel-item:first-child::after {align-self: flex-end;width: 50%;}#sk-container-id-5 div.sk-parallel-item:last-child::after {align-self: flex-start;width: 50%;}#sk-container-id-5 div.sk-parallel-item:only-child::after {width: 0;}#sk-container-id-5 div.sk-dashed-wrapped {border: 1px dashed gray;margin: 0 0.4em 0.5em 0.4em;box-sizing: border-box;padding-bottom: 0.4em;background-color: white;}#sk-container-id-5 div.sk-label label {font-family: monospace;font-weight: bold;display: inline-block;line-height: 1.2em;}#sk-container-id-5 div.sk-label-container {text-align: center;}#sk-container-id-5 div.sk-container {/* jupyter's `normalize.less` sets `[hidden] { display: none; }` but bootstrap.min.css set `[hidden] { display: none !important; }` so we also need the `!important` here to be able to override the default hidden behavior on the sphinx rendered scikit-learn.org. See: https://github.com/scikit-learn/scikit-learn/issues/21755 */display: inline-block !important;position: relative;}#sk-container-id-5 div.sk-text-repr-fallback {display: none;}</style><div id=\"sk-container-id-5\" class=\"sk-top-container\"><div class=\"sk-text-repr-fallback\"><pre>OneClassSVM()</pre><b>In a Jupyter environment, please rerun this cell to show the HTML representation or trust the notebook. <br />On GitHub, the HTML representation is unable to render, please try loading this page with nbviewer.org.</b></div><div class=\"sk-container\" hidden><div class=\"sk-item\"><div class=\"sk-estimator sk-toggleable\"><input class=\"sk-toggleable__control sk-hidden--visually\" id=\"sk-estimator-id-5\" type=\"checkbox\" checked><label for=\"sk-estimator-id-5\" class=\"sk-toggleable__label sk-toggleable__label-arrow\">OneClassSVM</label><div class=\"sk-toggleable__content\"><pre>OneClassSVM()</pre></div></div></div></div></div>"
      ],
      "text/plain": [
       "OneClassSVM()"
      ]
     },
     "execution_count": 82,
     "metadata": {},
     "output_type": "execute_result"
    }
   ],
   "source": [
    "one_class_svm.fit(Xtrain)"
   ]
  },
  {
   "cell_type": "code",
   "execution_count": 83,
   "id": "2c1b98a5",
   "metadata": {},
   "outputs": [],
   "source": [
    "one_class_svm_predictions=one_class_svm.predict(Xtest)"
   ]
  },
  {
   "cell_type": "code",
   "execution_count": 84,
   "id": "67edd0b2",
   "metadata": {},
   "outputs": [
    {
     "name": "stdout",
     "output_type": "stream",
     "text": [
      "1    5946\n",
      "0    5774\n",
      "dtype: int64\n"
     ]
    }
   ],
   "source": [
    "one_class_svm_predictions[one_class_svm_predictions== 1] = 0\n",
    "one_class_svm_predictions[one_class_svm_predictions== -1] = 1\n",
    "\n",
    "print(pd.value_counts(one_class_svm_predictions))"
   ]
  },
  {
   "cell_type": "code",
   "execution_count": 85,
   "id": "81197f02",
   "metadata": {},
   "outputs": [
    {
     "name": "stdout",
     "output_type": "stream",
     "text": [
      "              precision    recall  f1-score   support\n",
      "\n",
      "           0       0.86      0.87      0.87      5774\n",
      "           1       0.87      0.87      0.87      5946\n",
      "\n",
      "    accuracy                           0.87     11720\n",
      "   macro avg       0.87      0.87      0.87     11720\n",
      "weighted avg       0.87      0.87      0.87     11720\n",
      "\n"
     ]
    }
   ],
   "source": [
    "SVM_classification_report = classification_report(one_class_svm_predictions, ytest)\n",
    "print(SVM_classification_report)"
   ]
  },
  {
   "cell_type": "code",
   "execution_count": 86,
   "id": "dfb2dba2",
   "metadata": {},
   "outputs": [
    {
     "name": "stdout",
     "output_type": "stream",
     "text": [
      "[[5003  771]\n",
      " [ 787 5159]]\n"
     ]
    }
   ],
   "source": [
    "SVM_confusion_matrix = confusion_matrix(one_class_svm_predictions, ytest)\n",
    "print(SVM_confusion_matrix)"
   ]
  },
  {
   "cell_type": "markdown",
   "id": "87339e3f",
   "metadata": {},
   "source": [
    "# Training And Evaluating ONE-CLASS SVM WITH STOCHASTIC GRADIENT DESCENT"
   ]
  },
  {
   "cell_type": "code",
   "execution_count": 87,
   "id": "0ba2f49e",
   "metadata": {},
   "outputs": [],
   "source": [
    "# Initialize model parameters\n",
    "w = np.zeros(Xtrain.shape[1])\n",
    "b = 0\n",
    "\n",
    "# Set SGD parameters\n",
    "learning_rate = 0.01\n",
    "epochs = 100 "
   ]
  },
  {
   "cell_type": "code",
   "execution_count": 88,
   "id": "c122f721",
   "metadata": {},
   "outputs": [],
   "source": [
    "for epoch in range(epochs):\n",
    "    for i in range(len(Xtrain)):\n",
    "        x = Xtrain[i]\n",
    "\n",
    "        # Calculate the loss and gradient\n",
    "        loss = np.maximum(0, 1 - np.dot(w, x) + b)\n",
    "        gradient = -x if loss > 0 else 0\n",
    "\n",
    "        # Update the model parameters\n",
    "        w -= learning_rate * gradient\n",
    "        b -= learning_rate"
   ]
  },
  {
   "cell_type": "code",
   "execution_count": 89,
   "id": "a6f19890",
   "metadata": {},
   "outputs": [
    {
     "ename": "NameError",
     "evalue": "name 'X_train' is not defined",
     "output_type": "error",
     "traceback": [
      "\u001b[1;31m---------------------------------------------------------------------------\u001b[0m",
      "\u001b[1;31mNameError\u001b[0m                                 Traceback (most recent call last)",
      "Cell \u001b[1;32mIn[89], line 2\u001b[0m\n\u001b[0;32m      1\u001b[0m \u001b[38;5;28;01mfor\u001b[39;00m epoch \u001b[38;5;129;01min\u001b[39;00m \u001b[38;5;28mrange\u001b[39m(epochs):\n\u001b[1;32m----> 2\u001b[0m     \u001b[38;5;28;01mfor\u001b[39;00m i \u001b[38;5;129;01min\u001b[39;00m \u001b[38;5;28mrange\u001b[39m(\u001b[38;5;28mlen\u001b[39m(\u001b[43mX_train\u001b[49m)):\n\u001b[0;32m      3\u001b[0m         x \u001b[38;5;241m=\u001b[39m X_train[i]\n\u001b[0;32m      5\u001b[0m         \u001b[38;5;66;03m# Calculate the loss and gradient\u001b[39;00m\n",
      "\u001b[1;31mNameError\u001b[0m: name 'X_train' is not defined"
     ]
    }
   ],
   "source": [
    "for epoch in range(epochs):\n",
    "    for i in range(len(X_train)):\n",
    "        x = X_train[i]\n",
    "\n",
    "        # Calculate the loss and gradient\n",
    "        loss = np.maximum(0, 1 - np.dot(w, x) + b)\n",
    "        gradient = -x if loss > 0 else 0\n",
    "\n",
    "        # Update the model parameters\n",
    "        w -= learning_rate * gradient\n",
    "        b -= learning_rate"
   ]
  },
  {
   "cell_type": "code",
   "execution_count": null,
   "id": "85caf086",
   "metadata": {},
   "outputs": [],
   "source": [
    "def predict(x):\n",
    "    return np.sign(np.dot(w, x) + b)\n"
   ]
  },
  {
   "cell_type": "code",
   "execution_count": null,
   "id": "eebc2d4f",
   "metadata": {},
   "outputs": [],
   "source": [
    "y_pred = np.array([predict(x) for x in Xtest])"
   ]
  },
  {
   "cell_type": "code",
   "execution_count": null,
   "id": "24129f71",
   "metadata": {},
   "outputs": [],
   "source": [
    "precision = precision_score(ytest, y_pred)\n",
    "recall = recall_score(ytest, y_pred)\n",
    "f1 = f1_score(ytest, y_pred)\n",
    "\n",
    "print(\"Precision:\", precision)\n",
    "print(\"Recall:\", recall)\n",
    "print(\"F1-score:\", f1)"
   ]
  },
  {
   "cell_type": "code",
   "execution_count": null,
   "id": "367a93e3",
   "metadata": {},
   "outputs": [],
   "source": [
    "SVM_SGD_classification_report = classification_report(y_pred, ytest)\n",
    "print(SVM_SGD_classification_report)"
   ]
  },
  {
   "cell_type": "code",
   "execution_count": null,
   "id": "b5334931",
   "metadata": {},
   "outputs": [],
   "source": []
  }
 ],
 "metadata": {
  "kernelspec": {
   "display_name": "Python 3 (ipykernel)",
   "language": "python",
   "name": "python3"
  },
  "language_info": {
   "codemirror_mode": {
    "name": "ipython",
    "version": 3
   },
   "file_extension": ".py",
   "mimetype": "text/x-python",
   "name": "python",
   "nbconvert_exporter": "python",
   "pygments_lexer": "ipython3",
   "version": "3.10.9"
  }
 },
 "nbformat": 4,
 "nbformat_minor": 5
}
